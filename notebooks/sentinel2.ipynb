{
 "cells": [
  {
   "cell_type": "code",
   "execution_count": 27,
   "metadata": {},
   "outputs": [],
   "source": [
    "import gdal\n",
    "import rasterio\n",
    "import numpy as np\n",
    "import matplotlib.pyplot as plt\n",
    "import pandas as pd\n",
    "from xml.etree import ElementTree\n",
    "from lxml import etree\n",
    "from io import BytesIO\n",
    "# glymur for jp2.., return glymur.Jp2k(filename)[:]\n",
    "gdal.UseExceptions()"
   ]
  },
  {
   "cell_type": "markdown",
   "metadata": {},
   "source": [
    "### Utility functions"
   ]
  },
  {
   "cell_type": "code",
   "execution_count": 28,
   "metadata": {},
   "outputs": [],
   "source": [
    "def print_meta_data(data, arguments):\n",
    "    for arg in arguments:\n",
    "        print(arg, \":\", data[arg])\n",
    "    "
   ]
  },
  {
   "cell_type": "markdown",
   "metadata": {},
   "source": [
    "## Load data"
   ]
  },
  {
   "cell_type": "code",
   "execution_count": 29,
   "metadata": {},
   "outputs": [],
   "source": [
    "root = \"../data/\""
   ]
  },
  {
   "cell_type": "code",
   "execution_count": 30,
   "metadata": {},
   "outputs": [],
   "source": [
    "dataset_1 = root + \"S2A_MSIL2A_20200912T100031_N0214_R122_T33UXR_20200912T114911.SAFE/\""
   ]
  },
  {
   "cell_type": "markdown",
   "metadata": {},
   "source": [
    "## Explore data"
   ]
  },
  {
   "cell_type": "markdown",
   "metadata": {},
   "source": [
    "#### XML data"
   ]
  },
  {
   "cell_type": "code",
   "execution_count": 6,
   "metadata": {},
   "outputs": [],
   "source": [
    "MTD_MSIL2A = dataset_1 + \"MTD_MSIL2A.xml\""
   ]
  },
  {
   "cell_type": "code",
   "execution_count": 7,
   "metadata": {},
   "outputs": [
    {
     "data": {
      "text/plain": [
       "{'AOT_QUANTIFICATION_VALUE': '1000.0',\n",
       " 'AOT_QUANTIFICATION_VALUE_UNIT': 'none',\n",
       " 'AOT_RETRIEVAL_ACCURACY': '0.0',\n",
       " 'BOA_QUANTIFICATION_VALUE': '10000',\n",
       " 'BOA_QUANTIFICATION_VALUE_UNIT': 'none',\n",
       " 'CLOUD_COVERAGE_ASSESSMENT': '11.340936',\n",
       " 'CLOUD_SHADOW_PERCENTAGE': '7.01378',\n",
       " 'DARK_FEATURES_PERCENTAGE': '1.060481',\n",
       " 'DATATAKE_1_DATATAKE_SENSING_START': '2020-09-12T10:00:31.024Z',\n",
       " 'DATATAKE_1_DATATAKE_TYPE': 'INS-NOBS',\n",
       " 'DATATAKE_1_ID': 'GS2A_20200912T100031_027289_N02.14',\n",
       " 'DATATAKE_1_SENSING_ORBIT_DIRECTION': 'DESCENDING',\n",
       " 'DATATAKE_1_SENSING_ORBIT_NUMBER': '122',\n",
       " 'DATATAKE_1_SPACECRAFT_NAME': 'Sentinel-2A',\n",
       " 'DEGRADED_ANC_DATA_PERCENTAGE': '0.0',\n",
       " 'DEGRADED_MSI_DATA_PERCENTAGE': '0',\n",
       " 'FOOTPRINT': 'POLYGON((16.411349506049252 50.543739174288454, 17.95938607628957 50.5146700159563, 17.899359688454204 49.52841829443089, 16.382684363173013 49.55649445196309, 16.411349506049252 50.543739174288454))',\n",
       " 'FORMAT_CORRECTNESS': 'PASSED',\n",
       " 'GENERAL_QUALITY': 'PASSED',\n",
       " 'GENERATION_TIME': '2020-09-12T11:49:11.000000Z',\n",
       " 'GEOMETRIC_QUALITY': 'PASSED',\n",
       " 'HIGH_PROBA_CLOUDS_PERCENTAGE': '8.683924',\n",
       " 'MEDIUM_PROBA_CLOUDS_PERCENTAGE': '2.479969',\n",
       " 'NODATA_PIXEL_PERCENTAGE': '1.0E-5',\n",
       " 'NOT_VEGETATED_PERCENTAGE': '18.879128',\n",
       " 'PREVIEW_GEO_INFO': 'Not applicable',\n",
       " 'PREVIEW_IMAGE_URL': 'Not applicable',\n",
       " 'PROCESSING_BASELINE': '02.14',\n",
       " 'PROCESSING_LEVEL': 'Level-2A',\n",
       " 'PRODUCT_START_TIME': '2020-09-12T10:00:31.024Z',\n",
       " 'PRODUCT_STOP_TIME': '2020-09-12T10:00:31.024Z',\n",
       " 'PRODUCT_TYPE': 'S2MSI2A',\n",
       " 'PRODUCT_URI': 'S2A_MSIL2A_20200912T100031_N0214_R122_T33UXR_20200912T114911.SAFE',\n",
       " 'RADIATIVE_TRANSFER_ACCURACY': '0.0',\n",
       " 'RADIOMETRIC_QUALITY': 'PASSED',\n",
       " 'REFLECTANCE_CONVERSION_U': '0.98611310278502',\n",
       " 'SATURATED_DEFECTIVE_PIXEL_PERCENTAGE': '0.0',\n",
       " 'SENSOR_QUALITY': 'PASSED',\n",
       " 'SNOW_ICE_PERCENTAGE': '0.18974400000000002',\n",
       " 'SPECIAL_VALUE_NODATA': '0',\n",
       " 'SPECIAL_VALUE_SATURATED': '65535',\n",
       " 'THIN_CIRRUS_PERCENTAGE': '0.177043',\n",
       " 'UNCLASSIFIED_PERCENTAGE': '4.24427',\n",
       " 'VEGETATION_PERCENTAGE': '56.906682',\n",
       " 'WATER_PERCENTAGE': '0.364982',\n",
       " 'WATER_VAPOUR_RETRIEVAL_ACCURACY': '0.0',\n",
       " 'WVP_QUANTIFICATION_VALUE': '1000.0',\n",
       " 'WVP_QUANTIFICATION_VALUE_UNIT': 'cm'}"
      ]
     },
     "execution_count": 7,
     "metadata": {},
     "output_type": "execute_result"
    }
   ],
   "source": [
    "MTD_MSIL2A_data = gdal.Open(MTD_MSIL2A)\n",
    "MTD_MSIL2A_data.GetMetadata()\n",
    "# print_meta_data(MTD_MSIL2A_data.GetMetadata(), args)\n",
    "# MTD_MSIL2A_data.GetMetadata()"
   ]
  },
  {
   "cell_type": "code",
   "execution_count": 16,
   "metadata": {},
   "outputs": [
    {
     "name": "stdout",
     "output_type": "stream",
     "text": [
      "Datasets\n",
      "\n",
      "Bands B2, B3, B4, B8 with 10m resolution, UTM 33N\n",
      "Files: SENTINEL2_L2A:../data/S2A_MSIL2A_20200912T100031_N0214_R122_T33UXR_20200912T114911.SAFE/MTD_MSIL2A.xml:10m:EPSG_32633\n",
      "\n",
      "Bands B5, B6, B7, B8A, B11, B12 with 20m resolution, UTM 33N\n",
      "Files: SENTINEL2_L2A:../data/S2A_MSIL2A_20200912T100031_N0214_R122_T33UXR_20200912T114911.SAFE/MTD_MSIL2A.xml:20m:EPSG_32633\n",
      "\n",
      "Bands B1, B9 with 60m resolution, UTM 33N\n",
      "Files: SENTINEL2_L2A:../data/S2A_MSIL2A_20200912T100031_N0214_R122_T33UXR_20200912T114911.SAFE/MTD_MSIL2A.xml:60m:EPSG_32633\n",
      "\n",
      "True color image, UTM 33N\n",
      "Files: SENTINEL2_L2A:../data/S2A_MSIL2A_20200912T100031_N0214_R122_T33UXR_20200912T114911.SAFE/MTD_MSIL2A.xml:TCI:EPSG_32633\n",
      "\n"
     ]
    }
   ],
   "source": [
    "datasets = MTD_MSIL2A_data.GetMetadata('SUBDATASETS')\n",
    "# print(datasets)\n",
    "print(\"Datasets\\n\")\n",
    "for i in range(4):\n",
    "    print(datasets['SUBDATASET_%d_DESC' % (i+1)])\n",
    "    print(\"Files:\", end=\" \")\n",
    "    print(datasets['SUBDATASET_%d_NAME' % (i+1)] + \"\\n\")"
   ]
  },
  {
   "cell_type": "markdown",
   "metadata": {},
   "source": [
    "### Raster data"
   ]
  },
  {
   "cell_type": "code",
   "execution_count": 31,
   "metadata": {},
   "outputs": [],
   "source": [
    "raster_data = dataset_1 + 'GRANULE/L2A_T33UXR_A027289_20200912T100044/IMG_DATA/'"
   ]
  },
  {
   "cell_type": "code",
   "execution_count": 32,
   "metadata": {},
   "outputs": [],
   "source": [
    "string = '../data/S2A_MSIL2A_20200912T100031_N0214_R122_T33UXR_20200912T114911.SAFE/GRANULE/L2A_T33UXR_A027289_20200912T100044/IMG_DATA/R10m/T33UXR_20200912T100031_B04_10m.jp2'"
   ]
  },
  {
   "cell_type": "markdown",
   "metadata": {},
   "source": [
    "##### Creating True color image - doesnt work"
   ]
  },
  {
   "cell_type": "code",
   "execution_count": 262,
   "metadata": {},
   "outputs": [],
   "source": [
    "# No need to do this if we use our aux data but I prefer do it this way\n",
    "original_tci = raster_data + 'R10m/T33UXR_20200912T100031_TCI_10m.jp2'\n",
    "red_band = raster_data + 'R10m/T33UXR_20200912T100031_B04_10m.jp2'\n",
    "green_band = raster_data + 'R10m/T33UXR_20200912T100031_B03_10m.jp2'\n",
    "blue_band = raster_data + 'R10m/T33UXR_20200912T100031_B02_10m.jp2'\n",
    "\n",
    "# Open images (with rasterio lib-build on top of GDAL), these are 16bit grayscale images\n",
    "red_image = rasterio.open(red_band)\n",
    "green_image = rasterio.open(green_band)\n",
    "blue_image = rasterio.open(blue_band)\n",
    "\n",
    "assert(red_image.count == green_image.count == blue_image.count) # 1 band each\n",
    "# Load raster bands\n",
    "red = red_image.read(1)\n",
    "green = green_image.read(1)\n",
    "blue = blue_image.read(1)"
   ]
  },
  {
   "cell_type": "code",
   "execution_count": 279,
   "metadata": {},
   "outputs": [],
   "source": [
    "def normalize_to_8(band, percentile=0):\n",
    "#     min_d, max_d = percentile\n",
    "#     band = ((band - min_d)  * 255) / (max_d - min_d) \n",
    "    # band *= 255.0/image.max() would eliminate temporary array but we need int\n",
    "    # band = (band * 255) // image.max()# division on each element is slow but I don't have any better solution so far\n",
    "    return band.astype('uint8')"
   ]
  },
  {
   "cell_type": "code",
   "execution_count": 271,
   "metadata": {},
   "outputs": [],
   "source": [
    "rgb = [red, green , blue]\n",
    "p = np.percentile(rgb, (2,95))\n",
    "for i in range(0,3):\n",
    "    rgb[i] = normalize_to_8(rgb[i], p)"
   ]
  },
  {
   "cell_type": "code",
   "execution_count": 272,
   "metadata": {},
   "outputs": [],
   "source": [
    "rgb_profile = red_image.profile\n",
    "rgb_profile['dtype'] = 'uint8'\n",
    "rgb_profile['count'] = 3\n",
    "rgb_profile['photometric'] = \"RGB\""
   ]
  },
  {
   "cell_type": "code",
   "execution_count": null,
   "metadata": {},
   "outputs": [],
   "source": [
    "with rasterio.open(\"rgb.jp2\", 'w', **rgb_profile) as dst:\n",
    "    for count,band in enumerate(rgb,1):\n",
    "        dst.write(band, count)"
   ]
  },
  {
   "cell_type": "code",
   "execution_count": 280,
   "metadata": {},
   "outputs": [],
   "source": [
    "rgb2 = rgb_profile\n",
    "rgb_profile['dtype'] = 'uint8'\n",
    "red2 = normalize_to_8(red)\n",
    "green2 = normalize_to_8(green)\n",
    "blue2 = normalize_to_8(blue)"
   ]
  },
  {
   "cell_type": "code",
   "execution_count": 281,
   "metadata": {},
   "outputs": [],
   "source": [
    "with rasterio.open(\"rgb3.jp2\", 'w', **rgb2) as dst:\n",
    "    dst.write(red2, 1)\n",
    "    dst.write(green2, 2)\n",
    "    dst.write(blue2, 3)"
   ]
  },
  {
   "cell_type": "markdown",
   "metadata": {},
   "source": [
    "### NDVI"
   ]
  },
  {
   "cell_type": "code",
   "execution_count": 115,
   "metadata": {},
   "outputs": [],
   "source": [
    "red_band = raster_data + 'R10m/T33UXR_20200912T100031_B04_10m.jp2'\n",
    "nir_band = raster_data + 'R10m/T33UXR_20200912T100031_B08_10m.jp2'"
   ]
  },
  {
   "cell_type": "code",
   "execution_count": 116,
   "metadata": {},
   "outputs": [],
   "source": [
    "with rasterio.open(red_band) as red:\n",
    "    red = red.read()\n",
    "with rasterio.open(nir_band) as nir:\n",
    "    nir = nir.read()"
   ]
  },
  {
   "cell_type": "code",
   "execution_count": 117,
   "metadata": {},
   "outputs": [],
   "source": [
    "ndvi1 = (nir.astype(float) - red.astype(float))\n",
    "ndvi2 = (nir+red)\n",
    "ndvi = np.divide(ndvi1, ndvi2, out=np.zeros_like(ndvi1), where=ndvi2!=0)"
   ]
  },
  {
   "cell_type": "code",
   "execution_count": 138,
   "metadata": {},
   "outputs": [],
   "source": [
    "profile = rasterio.open(red_band).profile\n",
    "profile.update(dtype='uint8')\n",
    "profile['count'] = 3\n",
    "profile['photometric'] = \"RGB\""
   ]
  },
  {
   "cell_type": "code",
   "execution_count": 120,
   "metadata": {},
   "outputs": [],
   "source": [
    "red = np.copy(ndvi.squeeze())\n",
    "green = np.copy(ndvi.squeeze())\n",
    "blue = np.copy(ndvi.squeeze())"
   ]
  },
  {
   "cell_type": "code",
   "execution_count": 137,
   "metadata": {},
   "outputs": [],
   "source": [
    "vals = [-0.2, 0, 0.1, 0.2, 0.3, 0.4, 0.5, 0.6, 0.7, 0.8, 0.9, 1.0 ]\n",
    "redd = [0, 165, 215, 244, 253, 254, 255, 217, 166, 102, 26, 0]\n",
    "greenn = [0, 0, 48, 109, 174, 224, 255, 239, 217, 189, 152, 104]\n",
    "bluee = [0, 38, 39, 67, 97, 139, 191, 139, 106, 99, 80, 55]"
   ]
  },
  {
   "cell_type": "code",
   "execution_count": 135,
   "metadata": {},
   "outputs": [],
   "source": [
    "# I AM SORRY FOR THE NEXT LINES OF CODE :(\n",
    "red[red<(-0.2)] = 0\n",
    "red[(red>=(-0.2))&(red<=0)] = 165\n",
    "red[(red>.0)&(red<=.1)] = 215\n",
    "red[(red>.1)&(red<=.2)] = 244\n",
    "red[(red>.2)&(red<=.3)] = 253\n",
    "red[(red>.3)&(red<=.4)] = 254\n",
    "red[(red>.4)&(red<=.5)] = 255\n",
    "red[(red>.5)&(red<=.6)] = 217\n",
    "red[(red>.6)&(red<=.7)] = 166\n",
    "red[(red>.7)&(red<=.8)] = 102\n",
    "red[(red>.8)&(red<=.9)] = 26\n",
    "red[(red>.9)&(red<=1)] = 0"
   ]
  },
  {
   "cell_type": "code",
   "execution_count": 126,
   "metadata": {},
   "outputs": [],
   "source": [
    "green[green<(-0.2)] = 0\n",
    "green[(green>=(-0.2))&(green<=0)] = 0\n",
    "green[(green>.0)&(green<=.1)] = 48\n",
    "green[(green>.1)&(green<=.2)] = 109\n",
    "green[(green>.2)&(green<=.3)] = 174\n",
    "green[(green>.3)&(green<=.4)] = 224\n",
    "green[(green>.4)&(green<=.5)] = 255\n",
    "green[(green>.5)&(green<=.6)] = 239\n",
    "green[(green>.6)&(green<=.7)] = 217\n",
    "green[(green>.7)&(green<=.8)] = 189\n",
    "green[(green>.8)&(green<=.9)] = 152\n",
    "green[(green>.9)&(green<=1)] = 104"
   ]
  },
  {
   "cell_type": "code",
   "execution_count": 127,
   "metadata": {},
   "outputs": [],
   "source": [
    "blue[blue<(-0.2)] = 0\n",
    "blue[(blue>=(-0.2))&(blue<=0)] = 38\n",
    "blue[(blue>.0)&(blue<=.1)] = 39\n",
    "blue[(blue>.1)&(blue<=.2)] = 67\n",
    "blue[(blue>.2)&(blue<=.3)] = 97\n",
    "blue[(blue>.3)&(blue<=.4)] = 139\n",
    "blue[(blue>.4)&(blue<=.5)] = 191\n",
    "blue[(blue>.5)&(blue<=.6)] = 139\n",
    "blue[(blue>.6)&(blue<=.7)] = 106\n",
    "blue[(blue>.7)&(blue<=.8)] = 99\n",
    "blue[(blue>.8)&(blue<=.9)] = 80\n",
    "blue[(blue>.9)&(blue<=1)] = 55"
   ]
  },
  {
   "cell_type": "code",
   "execution_count": 128,
   "metadata": {},
   "outputs": [],
   "source": [
    "red = red.astype('uint8')\n",
    "green = green.astype('uint8')\n",
    "blue = blue.astype('uint8')"
   ]
  },
  {
   "cell_type": "code",
   "execution_count": 130,
   "metadata": {},
   "outputs": [],
   "source": [
    "with rasterio.open('ndvi.jp2', 'w', **profile) as dst:\n",
    "    dst.write(red, 1)\n",
    "    dst.write(green, 2)\n",
    "    dst.write(blue, 3)"
   ]
  },
  {
   "cell_type": "markdown",
   "metadata": {},
   "source": [
    "### NDVI CLOUD MASK"
   ]
  },
  {
   "cell_type": "code",
   "execution_count": 141,
   "metadata": {},
   "outputs": [],
   "source": [
    "ndvi = ndvi.squeeze()"
   ]
  },
  {
   "cell_type": "code",
   "execution_count": 161,
   "metadata": {},
   "outputs": [],
   "source": [
    "mask = np.where(ndvi<=.1, 0, 1).astype('uint8')"
   ]
  },
  {
   "cell_type": "code",
   "execution_count": 171,
   "metadata": {},
   "outputs": [],
   "source": [
    "cloud_profile = rasterio.open(red_band).profile\n",
    "cloud_profile['dtype'] = 'uint8'"
   ]
  },
  {
   "cell_type": "code",
   "execution_count": 170,
   "metadata": {},
   "outputs": [],
   "source": [
    "with rasterio.open('ndvi_mask.jp2', 'w', **profile) as dst:\n",
    "    dst.write(mask, 1)"
   ]
  },
  {
   "cell_type": "code",
   "execution_count": 167,
   "metadata": {},
   "outputs": [
    {
     "data": {
      "text/plain": [
       "<matplotlib.image.AxesImage at 0x2121dd29a08>"
      ]
     },
     "execution_count": 167,
     "metadata": {},
     "output_type": "execute_result"
    },
    {
     "data": {
      "image/png": "[encoded data removed]",
      "text/plain": [
       "<Figure size 432x288 with 1 Axes>"
      ]
     },
     "metadata": {
      "needs_background": "light"
     },
     "output_type": "display_data"
    }
   ],
   "source": [
    "plt.imshow(mask, cmap='binary')"
   ]
  },
  {
   "cell_type": "code",
   "execution_count": null,
   "metadata": {},
   "outputs": [],
   "source": []
  }
 ],
 "metadata": {
  "kernelspec": {
   "display_name": "Python 3",
   "language": "python",
   "name": "python3"
  },
  "language_info": {
   "codemirror_mode": {
    "name": "ipython",
    "version": 3
   },
   "file_extension": ".py",
   "mimetype": "text/x-python",
   "name": "python",
   "nbconvert_exporter": "python",
   "pygments_lexer": "ipython3",
   "version": "3.7.9"
  }
 },
 "nbformat": 4,
 "nbformat_minor": 4
}
